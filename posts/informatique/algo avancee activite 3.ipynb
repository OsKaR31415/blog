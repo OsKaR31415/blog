{
  "cells": [
    {
      "cell_type": "raw",
      "metadata": {},
      "source": [
        "---\n",
        "title: 'Algorithmique avancée : activité 3'\n",
        "date: '2023-02-17'\n",
        "categories:\n",
        "  - informatique\n",
        "toc: true\n",
        "number-sections: true\n",
        "draft: true\n",
        "---"
      ],
      "id": "b299d32b"
    },
    {
      "cell_type": "markdown",
      "metadata": {},
      "source": [
        "::: {.callout-tip collapse=true}\n",
        "\n",
        "## Définition d'une liste chaînée\n"
      ],
      "id": "df5a16ee"
    },
    {
      "cell_type": "code",
      "metadata": {},
      "source": [
        "class Node:\n",
        "    def __init__(self, valeur, suivant: 'Node' =None):\n",
        "        self.valeur = valeur\n",
        "        self.suivant = suivant\n",
        "\n",
        "class Liste:\n",
        "    def __init__(self, head: Node):\n",
        "        self.head = head\n",
        "\n",
        "    def __str__(self) -> str:\n",
        "        return \"(\" + \",\".join(map(lambda e: str(Liste(e) if isinstance(e, Node) else e),\n",
        "                                  self.to_list())) + \")\"\n",
        "\n",
        "    def to_list(self) -> list:\n",
        "        if self.head is None:\n",
        "            return []\n",
        "        return [self.head.valeur] + self.cdr().to_list()\n",
        "\n",
        "    def __len__(self) -> int:\n",
        "        \"\"\"Longueur de la liste.\n",
        "        \"\"\"\n",
        "        if self.head is None:\n",
        "            return 0\n",
        "        return 1 + len(self.head.suivant)\n",
        "\n",
        "    def append(self, valeur) -> None:\n",
        "        \"\"\"Ajouter une valeur à la fin de la liste.\n",
        "        \"\"\"\n",
        "        # cas de base :\n",
        "        # on doit s'arrêter dès que la liste est terminer\n",
        "        if self.head.suivant is None:\n",
        "            # on créé un nouveau Node\n",
        "            self.head.suivant = Node(valeur)\n",
        "        # récursion pour atteindre la fin de la liste\n",
        "        self.cdr().append(valeur)\n",
        "\n",
        "    def car(self):\n",
        "        \"\"\"Récupérer la valeur en tête de liste\n",
        "        \"\"\"\n",
        "        return self.head.value\n",
        "\n",
        "    def cdr(self) -> 'Liste':\n",
        "        \"\"\"Récupérer la liste sans son premier élément.\n",
        "        \"\"\"\n",
        "        if self.head is None:\n",
        "            return None\n",
        "        return Liste(self.head.suivant)\n",
        "\n",
        "    def last(self):\n",
        "        \"\"\"Récupérer le dernier élément de la liste.\n",
        "        \"\"\"\n",
        "        if self.head.suivant is None:\n",
        "            return self.last(Liste(self.head.suivant))\n",
        "        return self.head.valeur"
      ],
      "id": "6cb89d55",
      "execution_count": null,
      "outputs": []
    },
    {
      "cell_type": "markdown",
      "metadata": {},
      "source": [
        ":::\n",
        "\n",
        "# Bégaie - De bégaie\n",
        "\n",
        "\n",
        "> On dit qu'une liste est “bégayée” lorsque chaque élément y\n",
        "> apparaît deux fois de suite. Le but de cet exercice est de\n",
        "> transformer une liste en une liste bégayée, et inversement\n",
        "> de “dé bégayer” une liste en supprimant un élément sur\n",
        "> deux.\n",
        "\n",
        "## Bégaie\n",
        "\n",
        "### Fonction itérative\n",
        "\n",
        "> écrire la fonction itérative `begaie` qui, étant donnée\n",
        "> une liste d’éléments, renvoie la liste où chaque élément\n",
        "> est répété. Par exemple : `begaie(1,2,3,1,4) =\n",
        "> (1,1,2,2,3,3,1,1,4,4)` et `begaie(None) = None`.\n"
      ],
      "id": "14d7eaf4"
    },
    {
      "cell_type": "code",
      "metadata": {},
      "source": [
        "def begaie(L: Node) -> Node:\n",
        "    p = L\n",
        "    while p is not None:\n",
        "        # insérer un mode contenant la même valeur\n",
        "        tmp = Node(p.valeur, p.suivant)\n",
        "        p.suivant = tmp\n",
        "        # on passe au pointeur suivant\n",
        "        p = p.suivant.suivant\n",
        "    return L"
      ],
      "id": "52dc0301",
      "execution_count": null,
      "outputs": []
    },
    {
      "cell_type": "markdown",
      "metadata": {},
      "source": [
        "On peut tester :\n"
      ],
      "id": "b6253b9c"
    },
    {
      "cell_type": "code",
      "metadata": {},
      "source": [
        "L = Node(3, Node(1, Node(4, Node(1, Node(5, Node(9))))))\n",
        "print(Liste(L))\n",
        "print(Liste(begaie(L)))"
      ],
      "id": "fb89f66e",
      "execution_count": null,
      "outputs": []
    },
    {
      "cell_type": "markdown",
      "metadata": {},
      "source": [
        "Et on a bien :\n"
      ],
      "id": "c47c87d2"
    },
    {
      "cell_type": "code",
      "metadata": {},
      "source": [
        "print(begaie(None))"
      ],
      "id": "5027377c",
      "execution_count": null,
      "outputs": []
    },
    {
      "cell_type": "markdown",
      "metadata": {},
      "source": [
        "### Fonction récursive\n",
        "\n",
        "> Donner maintenant une fonction récursive `begaieRec` qui\n",
        "> effectue le même traitement que la fonction `begaie`\n",
        "> précédente\n"
      ],
      "id": "3bc49945"
    },
    {
      "cell_type": "code",
      "metadata": {},
      "source": [
        "def begaieRec(L: Node) -> Node:\n",
        "    if L is None:\n",
        "        return None\n",
        "    return Node(L.valeur, Node(L.valeur, begaieRec(L.suivant)))"
      ],
      "id": "2e4d0840",
      "execution_count": null,
      "outputs": []
    },
    {
      "cell_type": "markdown",
      "metadata": {},
      "source": [
        "Elle fonctionne également :\n"
      ],
      "id": "c81fc20e"
    },
    {
      "cell_type": "code",
      "metadata": {},
      "source": [
        "L = Node(3, Node(1, Node(4, Node(1, Node(5, Node(9))))))\n",
        "print(Liste(L))\n",
        "# La fonction modifie la valeur de L, donc on pourrait\n",
        "# simplement appeler la fonction, sans modifier\n",
        "# explicitement L (sans mettre le `L = `)\n",
        "L = begaie(L)"
      ],
      "id": "edec0fd6",
      "execution_count": null,
      "outputs": []
    },
    {
      "cell_type": "markdown",
      "metadata": {},
      "source": [
        "## Dé bégaie\n",
        "\n",
        "\n",
        "### Fonction itérative\n",
        "\n",
        "> Écrire maintenant la fonction itérative `debegaie` qui\n",
        "> prend en argument une liste bégayée et retourne la liste\n",
        "> privée de ses doublons. La fonction de bégaie est telle que\n",
        "> `debegaie(begaie(L)) = L`\n"
      ],
      "id": "89542f01"
    },
    {
      "cell_type": "code",
      "metadata": {},
      "source": [
        "def debegaie(L: Node) -> Node:\n",
        "    if L is None:\n",
        "        return None\n",
        "    p = L\n",
        "    # on est obligé \n",
        "    while p.suivant.suivant is not None:\n",
        "        p.suivant = p.suivant.suivant\n",
        "        p = p.suivant\n",
        "    # on retire le dernier élément\n",
        "    # p.suivant = None\n",
        "    return L\n",
        "\n",
        "L = Node(3, Node(1, Node(4, Node(1, Node(5, Node(9))))))\n",
        "L = begaie(L)\n",
        "print(Liste(L))\n",
        "L = debegaie(L)\n",
        "print(Liste(L))"
      ],
      "id": "5785c39e",
      "execution_count": null,
      "outputs": []
    },
    {
      "cell_type": "markdown",
      "metadata": {},
      "source": [
        "### Fonction récursive\n",
        "\n",
        "> Écrire enfin la fonction récursive `debegaieRec` qui\n",
        "> réalise le même traitement que la fonction `debegaie`.\n"
      ],
      "id": "9966fe2c"
    },
    {
      "cell_type": "code",
      "metadata": {},
      "source": [
        "def debegaieRec(L: Node) -> Node:\n",
        "    # cas de base\n",
        "    if L is None:\n",
        "        return None\n",
        "    # on doit ajouter ce cas de base car on utilise\n",
        "    # L.suivant.suivant, donc L.suivant ne doit pas être None\n",
        "    if L.suivant is None:\n",
        "        return None\n",
        "    # On créée une nouvelle liste qui saute un élément\n",
        "    return Node(L.valeur, debegaieRec(L.suivant.suivant))\n",
        "\n",
        "\n",
        "L = Node(3, Node(1, Node(4, Node(1, Node(5, Node(9))))))\n",
        "L = begaie(L)\n",
        "print(Liste(L))\n",
        "L = debegaie(L)\n",
        "print(Liste(L))"
      ],
      "id": "a6bf998b",
      "execution_count": null,
      "outputs": []
    },
    {
      "cell_type": "markdown",
      "metadata": {},
      "source": [
        "# Implémentation de la fonction `zip`\n",
        "\n",
        "De très nombreux langages de programmations permettent de\n",
        "travailler sur des structures de listes chaînées. Le langage\n",
        "Python notamment permet de travailler nativement avec les\n",
        "listes et implémente la fonction `zip(l1, l2)` qui permet, à partir de 2 listes de même longueur de construire une liste contenant les couples de valeurs formés des éléments de même indice issu des 2 listes. Par exemple :\n"
      ],
      "id": "0d7310b9"
    },
    {
      "cell_type": "code",
      "metadata": {},
      "source": [
        "Z = zip((1, 2, 3), (\"a\", \"b\", \"c\" ))\n",
        "print(list(Z))"
      ],
      "id": "1656e187",
      "execution_count": null,
      "outputs": []
    },
    {
      "cell_type": "markdown",
      "metadata": {},
      "source": [
        "## Itérative\n",
        "\n",
        " 1. Écrire la fonction itérative zip(l1, l2) qui permet d’obtenir le résultat désiré en suivant le formalisme des listes chaînées étudiées en cours. On supposera les listes en argument de même taille et non vides.\n"
      ],
      "id": "56e639c1"
    },
    {
      "cell_type": "code",
      "metadata": {},
      "source": [
        "def zip_iter(L1: Node, L2: Node) -> Node:\n",
        "    p = L1\n",
        "    q = L2\n",
        "    res = None\n",
        "    last = None\n",
        "    while p is not None and q is not None:\n",
        "        if res is None:\n",
        "            res = Node(Node(p.valeur, Node(q.valeur)))\n",
        "            last = res\n",
        "        else:\n",
        "            last.suivant = Node(Node(p.valeur, Node(q.valeur)))\n",
        "            last = last.suivant\n",
        "        p = p.suivant\n",
        "        q = q.suivant\n",
        "    return res\n",
        "\n",
        "L1 = Node(3, Node(1, Node(4, Node(1, Node(5, Node(9, Node(2)))))))\n",
        "L2 = Node(1, Node(6, Node(1, Node(8, Node(0, Node(3, Node(3)))))))\n",
        "print(Liste(zip_iter(L1, L2)))\n",
        "print(Liste(L1), Liste(L2))"
      ],
      "id": "e175c1e0",
      "execution_count": null,
      "outputs": []
    },
    {
      "cell_type": "markdown",
      "metadata": {},
      "source": [
        "## Récursive\n",
        "\n",
        " 2. Produire une solution récursive équivalente.\n"
      ],
      "id": "406f0f16"
    },
    {
      "cell_type": "code",
      "metadata": {},
      "source": [
        "def zip_rec(L1: Node, L2: Node) -> Node:\n",
        "    if L1 is None or L2 is None:\n",
        "        return None\n",
        "    return Node(Node(L1.valeur, Node(L2.valeur)),\n",
        "                zip_rec(L1.suivant, L2.suivant))\n",
        "\n",
        "\n",
        "L1 = Node(3, Node(1, Node(4, Node(1, Node(5, Node(9, Node(2)))))))\n",
        "L2 = Node(1, Node(6, Node(1, Node(8, Node(0, Node(3, Node(3)))))))\n",
        "L3 = Node(1, Node(2, Node(3)))\n",
        "print(Liste(zip_rec(L1, L2)))\n",
        "print(Liste(zip_rec(L1, L3)))"
      ],
      "id": "37e82d98",
      "execution_count": null,
      "outputs": []
    },
    {
      "cell_type": "markdown",
      "metadata": {},
      "source": [
        "# Liste croisante\n",
        "\n",
        "On considère dans cet exercice une liste contenant des valeurs comparables grâce à l’opérateur `<=`.\n",
        "\n",
        "## Itérative\n",
        "\n",
        " 1. Écrire la fonction itérative `croissante(L)` qui prend en argument une telle liste et retourne `True` si et seulement si la liste est triée par ordre croissant au sens large.\n",
        "\n",
        "On implémentera la fonction en considérant les cas de base suivants :\n",
        " - une liste vide est considérée comme triée par ordre croissant\n",
        " - une liste avec un seul élément est croissante également\n"
      ],
      "id": "5c1edade"
    },
    {
      "cell_type": "code",
      "metadata": {},
      "source": [
        "def croissante_iter(L: Node) -> bool:\n",
        "    if L is None: return True\n",
        "    p = L\n",
        "    while p.suivant is not None:\n",
        "        # si deux éléments sont dans un ordre décroissant\n",
        "        if p.valeur > p.suivant.valeur:\n",
        "            # on sait que la liste n'est pas croissante\n",
        "            return False\n",
        "        p = p.suivant\n",
        "    # si on a trouvé aucune valeur décroissante dans la liste, on sait qu'elle\n",
        "    # est croissante\n",
        "    return True\n",
        "\n",
        "L = Node(1, Node(6, Node(6, Node(42, Node(73)))))\n",
        "print(croissante_iter(L))  # True\n",
        "L = Node(1, Node(6, Node(0, Node(42))))\n",
        "print(croissante_iter(L))  # False"
      ],
      "id": "050d9cf9",
      "execution_count": null,
      "outputs": []
    },
    {
      "cell_type": "markdown",
      "metadata": {},
      "source": [
        "## Récursive\n",
        "\n",
        "2. Proposer une solution récursive.\n"
      ],
      "id": "0657b34e"
    },
    {
      "cell_type": "code",
      "metadata": {},
      "source": [
        "def croissante_rec(L: Node) -> bool:\n",
        "    if L is None: return True\n",
        "    if L.suivant is None: return True\n",
        "    # si les valeurs en tête sont décroissantes\n",
        "    if L.valeur > L.suivant.valeur:\n",
        "        return False\n",
        "    return croissante_rec(L.suivant)\n",
        "\n",
        "L = Node(1, Node(6, Node(6, Node(42, Node(73)))))\n",
        "print(croissante_iter(L))  # True\n",
        "L = Node(1, Node(6, Node(0, Node(42))))\n",
        "print(croissante_iter(L))  # False"
      ],
      "id": "e446d823",
      "execution_count": null,
      "outputs": []
    },
    {
      "cell_type": "markdown",
      "metadata": {},
      "source": [
        "# Suppression des occurrences d’un élément\n",
        "\n",
        "Nous nous intéressons maintenant à la suppression d’un élément quelconque dans une liste chaînée.\n",
        "\n",
        "## Itérative\n",
        "\n",
        " 1. Écrire une fonction itérative `removeAll(L, elem)` qui prend en argument une liste chaînée `L` et une valeur `elem` et retourne la liste privée de ses éléments `elem`.\n"
      ],
      "id": "fd99c519"
    },
    {
      "cell_type": "code",
      "metadata": {},
      "source": [
        "def remove_all_iter(L: Node, elem) -> Node:\n",
        "    if L is None: return None\n",
        "    # on cherche la première valeur\n",
        "    while L.valeur == elem:\n",
        "        L = L.suivant\n",
        "        # si on a passé toutes les valeurs, c'est que la liste ne contient que\n",
        "        # des valeurs à supprimer :\n",
        "        if L is None: return None\n",
        "    res = Node(L.valeur)\n",
        "    res_tl = res\n",
        "    while L is not None:\n",
        "        if L.valeur != elem:\n",
        "            res_tl.suivant = Node(L.valeur)\n",
        "            res_tl = res_tl.suivant\n",
        "        L = L.suivant\n",
        "    return res\n",
        "\n",
        "print(\"Liste vide :\", remove_all_iter(None, 9))\n",
        "\n",
        "L = Node(42, Node(42, Node(42, Node(42, Node(42, Node(42, Node(42)))))))\n",
        "print(\"Liste à supprimer complètement :\",\n",
        "      Liste(remove_all_iter(L, 42)))\n",
        "\n",
        "L = Node(73, Node(73, Node(73, Node(42, Node(42)))))\n",
        "print(\"Liste qui commmence par les éléments à supprimer :\",\n",
        "      Liste(remove_all_iter(L, 73)))\n",
        "\n",
        "L = Node(1, Node(1, Node(1, Node(8, Node(1, Node(3, Node(3)))))))\n",
        "print(\"Liste mixte :\",\n",
        "      Liste(remove_all_iter(L, 1)))"
      ],
      "id": "659350b4",
      "execution_count": null,
      "outputs": []
    },
    {
      "cell_type": "markdown",
      "metadata": {},
      "source": [
        "## Récursive\n",
        "\n",
        " 2. Proposer une solution récursive à ce problème.\n",
        "Indications : pensez à différencier les cas suivants :\n",
        "\n",
        " - la liste est vide initialement,\n",
        " - la liste ne contient que l’élément à supprimer,\n",
        " - la liste commence par les éléments à supprimer,\n",
        " - la liste est mixte : composée pour une part de l’élément à supprimer et pour une autre part d’autres éléments à conserver.\n"
      ],
      "id": "63735825"
    },
    {
      "cell_type": "code",
      "metadata": {},
      "source": [
        "def remove_all(L: Node, elem) -> Node:\n",
        "    if L is None: return None\n",
        "    if L.valeur == elem:\n",
        "        return remove_all(L.suivant, elem)\n",
        "    return Node(L.valeur, remove_all(L.suivant, elem))\n",
        "\n",
        "print(\"Liste vide :\", remove_all_iter(None, 9))\n",
        "\n",
        "L = Node(42, Node(42, Node(42, Node(42, Node(42, Node(42, Node(42)))))))\n",
        "print(\"Liste à supprimer complètement :\",\n",
        "      Liste(remove_all_iter(L, 42)))\n",
        "\n",
        "L = Node(73, Node(73, Node(73, Node(42, Node(42)))))\n",
        "print(\"Liste qui commmence par les éléments à supprimer :\",\n",
        "      Liste(remove_all_iter(L, 73)))\n",
        "\n",
        "L = Node(1, Node(1, Node(1, Node(8, Node(1, Node(3, Node(3)))))))\n",
        "print(\"Liste mixte :\",\n",
        "      Liste(remove_all_iter(L, 1)))"
      ],
      "id": "603fcb68",
      "execution_count": null,
      "outputs": []
    },
    {
      "cell_type": "markdown",
      "metadata": {},
      "source": [
        "# Suite de Fibonacci\n",
        "\n",
        "La suite de Fibonacci est définie comme suit :\n",
        "\n",
        " - $f_0 = 1$\n",
        " - $f_1 = 1$\n",
        " - $f_n = f_{n-1} + f_{n-2}$ si $n > 1$\n",
        "\n",
        "\n",
        "## Itérative\n",
        "\n",
        " 1. Écrire la définition de la fonction itérative `fibonacci(n)` qui, étant donné un entier naturel `n` renvoie la liste $(f_n, f_{n−1}, f_{n−2}, \\ldots, f_1, f_0)$ où les fi sont les termes de la suite de Fibonacci.\n",
        "\n",
        "Par exemple :\n",
        "\n",
        "```python\n",
        "fibonacci(0) = (1)\n",
        "fibonacci(1) = (1, 1)\n",
        "fibonacci(4) = (1, 1, 2, 3, 5)\n",
        "fibonacci(5) = (1, 1, 2, 3, 5, 8)\n",
        "```\n"
      ],
      "id": "bd2907ab"
    },
    {
      "cell_type": "code",
      "metadata": {},
      "source": [
        "def fibonacci(n: int) -> Node:\n",
        "    if n == 0:\n",
        "        return Node(1)\n",
        "    res = Node(1, Node(1))\n",
        "    # on a déjà fait la 1ère étape en définissant res, donc on peut diminuer n\n",
        "    n -= 1\n",
        "    # _ est un nom de variable que l'on utilise quand on sait que l'on ne va\n",
        "    # pas utiliser cette variable.\n",
        "    for _ in range(n):\n",
        "        # somme de la dernière et l'avant dernière valeur\n",
        "        res = Node(res.valeur + res.suivant.valeur, res)\n",
        "    return res\n",
        "\n",
        "for n in range(10):\n",
        "    print(f\"fibonacci({n}) = {Liste(fibonacci(n))}\")"
      ],
      "id": "47f25e09",
      "execution_count": null,
      "outputs": []
    },
    {
      "cell_type": "markdown",
      "metadata": {},
      "source": [
        "::: {.callout-tip collapse=true}\n",
        "## Les f-string en python\n",
        "\n",
        "Les \"*f-strings*\" sont des chaînes de caractères (*strings*) devant lesquelles on met un `f`.\n",
        "\n",
        "Cela permet de mettre du code à l'intérieur, qui sera évalué et intégré dans la chaîne.\n",
        "\n",
        "Par exemple :\n"
      ],
      "id": "5ab7bcec"
    },
    {
      "cell_type": "code",
      "metadata": {},
      "source": [
        "for i in range(5):\n",
        "    print(f\"{i*10}km à pied, ça use les souliers.\")"
      ],
      "id": "e0a59c41",
      "execution_count": null,
      "outputs": []
    },
    {
      "cell_type": "markdown",
      "metadata": {},
      "source": [
        "Ici, on voit que c'est l'expression entourée par des accolades `{...}` qui est évaluée. Elle est bien intégrée dans le reste de la chaîne de caractères.\n",
        "\n",
        "Bien sûr, il est possible de mettre plusieurs expressions dans une même f-string :\n"
      ],
      "id": "911a5cd2"
    },
    {
      "cell_type": "code",
      "metadata": {},
      "source": [
        "for i in range(5):\n",
        "    print(f\"{i} au carré donne {i**2}\")"
      ],
      "id": "4a4dcc50",
      "execution_count": null,
      "outputs": []
    },
    {
      "cell_type": "markdown",
      "metadata": {},
      "source": [
        "Et on peut même imaginer ce genre d'exemples :\n"
      ],
      "id": "e677697b"
    },
    {
      "cell_type": "code",
      "metadata": {},
      "source": [
        "for i in range(5):\n",
        "    print(f\"{i} est un nombre {'impair' if i%2 else 'pair'} et {'non'*(0 != i%3)} divisible par 3.\")"
      ],
      "id": "b1a0f25e",
      "execution_count": null,
      "outputs": []
    },
    {
      "cell_type": "markdown",
      "metadata": {},
      "source": [
        "Les f-strings sont plus rapides et plus lisibles que d'autres techniques pour créer des listes contenant des résultats. Il vaut donc mieux utiliser des f-string plutôt que faire des concaténations de listes avec `+`.\n",
        "\n",
        ":::\n",
        "\n",
        "\n",
        "## Récursive\n",
        "\n",
        " 2. Produire une version récursive de cette fonction\n"
      ],
      "id": "18a07459"
    },
    {
      "cell_type": "code",
      "metadata": {},
      "source": [
        "def fibonacci_rec(n: int) -> Node:\n",
        "    if n == 0:\n",
        "        return Node(1)\n",
        "    if n == 1:\n",
        "        return Node(1, Node(1))\n",
        "    recursion = fibonacci_rec(n - 1)\n",
        "    return Node(recursion.valeur + recursion.suivant.valeur,\n",
        "                recursion)\n",
        "\n",
        "for n in range(10):\n",
        "    print(f\"fibonacci({n}) = {Liste(fibonacci(n))}\")"
      ],
      "id": "52fe8db9",
      "execution_count": null,
      "outputs": []
    },
    {
      "cell_type": "markdown",
      "metadata": {},
      "source": [
        "# interclassement\n",
        "\n",
        "On s’intéresse dans cet exercice à deux méthodes d’interclassement de listes. L’interclassement vise à parcourir deux listes en parallèle et, à chaque itération, à insérer un élément venant de l’une ou de l’autre liste, dans la liste résultat. Le critère utilisé pour choisir la liste qui fournit l’élément à insérer suivant définit le type d’interclassement.\n",
        "\n",
        "\n",
        "\n",
        "\n",
        "## Interclassement strict\n",
        "\n",
        " 1. On s’intéresse tout d’abord à un interclassement strict qui insère alternativement un élément de la première liste puis un élément de la seconde liste. Dans le cas où une liste est plus courte que l’autre, les éléments restants de la plus longue sont insérés à la fin de la liste résultat sans interclassement. Plus précisément, si une liste est vide dès le début, la seconde est retournée. Si les deux listes sont vides, alors la liste vide (None) est retournée. Par exemple :\n",
        "\n",
        "\n",
        "On commence par créer une fonction qui permet de copier une liste chaînée (créer une nouvelle liste qui contien les mêmes valeurs)."
      ],
      "id": "8a0dbeba"
    },
    {
      "cell_type": "code",
      "metadata": {},
      "source": [
        "def copy(L: Node) -> Node:\n",
        "    \"\"\"Créer une copie d'une liste chaînée.\"\"\"\n",
        "    if L is None: return None\n",
        "    return Node(L.valeur, copy(L.suivant))"
      ],
      "id": "b1f1146f",
      "execution_count": null,
      "outputs": []
    },
    {
      "cell_type": "markdown",
      "metadata": {},
      "source": [
        "::: {.callout-tip collapse=true}\n",
        "## Version itérative de `copy`\n",
        "\n",
        "La version itérative nécessite de garder à la fois un pointeur vers la position dans la liste originale et vers la fin de la nouvelle liste.\n"
      ],
      "id": "2f117aa4"
    },
    {
      "cell_type": "code",
      "metadata": {},
      "source": [
        "def copy_iter(L: Node) -> Node:\n",
        "    \"\"\"Créer une copie d'une liste chaînée.\"\"\"\n",
        "    if L is None: return None\n",
        "    res = Node(L.valeur)\n",
        "    p = res\n",
        "    q = L.suivant\n",
        "    while q is not None:\n",
        "        p.suivant = Node(q.valeur)\n",
        "        p = p.suivant\n",
        "        q = q.suivant\n",
        "    return res"
      ],
      "id": "04314014",
      "execution_count": null,
      "outputs": []
    },
    {
      "cell_type": "markdown",
      "metadata": {},
      "source": [
        ":::\n",
        "\n",
        "\n",
        "### Itératif\n"
      ],
      "id": "9eb779aa"
    },
    {
      "cell_type": "code",
      "metadata": {},
      "source": [
        "def inter_strict_iter(L1: Node, L2: Node) -> Node:\n",
        "    if L1 is None: return copy(L2)\n",
        "    if L2 is None: return copy(L1)\n",
        "    res = Node(L1.valeur, Node(L2.valeur))\n",
        "    L1_p = L1.suivant\n",
        "    L2_p = L2.suivant\n",
        "    res_tail = res.suivant\n",
        "    while L1_p is not None and L2_p is not None:\n",
        "        res_tail.suivant = Node(L1_p.valeur, Node(L2_p.valeur))\n",
        "        res_tail = res_tail.suivant.suivant\n",
        "        L1_p = L1_p.suivant\n",
        "        L2_p = L2_p.suivant\n",
        "    if L1_p is None: res_tail.suivant = copy(L2_p)\n",
        "    if L2_p is None: res_tail.suivant = copy(L1_p)\n",
        "    return res\n",
        "\n",
        "L1 = Node(2, Node(6, Node(42, Node(73, Node(1237)))))\n",
        "L2 = Node(0, Node(1, Node(0)))\n",
        "print(Liste(inter_strict_iter(L1, L2)))"
      ],
      "id": "c6c11f64",
      "execution_count": null,
      "outputs": []
    },
    {
      "cell_type": "markdown",
      "metadata": {},
      "source": [
        "### Récursif\n"
      ],
      "id": "ef5dc8d4"
    },
    {
      "cell_type": "code",
      "metadata": {},
      "source": [
        "def inter_strict_rec(L1: Node, L2: Node) -> Node:\n",
        "    if L1 is None or L2 is None: return None\n",
        "    return Node(L1.valeur, Node(L2.valeur,\n",
        "                inter_strict_rec(L1.suivant, L2.suivant)))\n",
        "\n",
        "L1 = Node('A', Node('B', Node('C', Node('D', Node('E')))))\n",
        "L2 = Node(0, Node(1, Node(2)))\n",
        "print(Liste(inter_strict_iter(L1, L2)))"
      ],
      "id": "7f993e98",
      "execution_count": null,
      "outputs": []
    },
    {
      "cell_type": "markdown",
      "metadata": {},
      "source": [
        "::: {.callout-tip collapse=true}\n",
        "## Avec `match`\n",
        "\n",
        "Le mot clef `match` de python permet de faire du \"_pattern matching_\", un peu comme en ocaml. Cette syntaxe (avec `match` et `case`) peut être plus lisible que des `if` dans certains cas.\n",
        "\n",
        "Ici, on profite du fait d'avoir deux cas symétrique : si `L1` est `None` et si `L2` est `Non`. Dans chaque cas, il faut retourner une copie de l'autre liste.\n",
        "\n",
        "L'expression `(L, None) | (None, L)` va _matcher_ tous les cas où l'une des deux listes `(L1, L2)` est vide. Alors, `L` sera l'autre liste, exactement ce qu'il faut pour faire un `return copy(L)` !\n"
      ],
      "id": "08428582"
    },
    {
      "cell_type": "code",
      "metadata": {},
      "source": [
        "def inter_strict_rec(L1: Node, L2: Node) -> Node:\n",
        "    match (L1, L2):\n",
        "        case (L, None) | (None, L): return copy(L)\n",
        "    return Node(L1.valeur, Node(L2.valeur,\n",
        "                inter_strict_rec(L1.suivant, L2.suivant)))\n",
        "\n",
        "L1 = Node('A', Node('B', Node('C', Node('D', Node('E')))))\n",
        "L2 = Node(0, Node(1, Node(2)))\n",
        "print(Liste(inter_strict_iter(L1, L2)))"
      ],
      "id": "79f31f13",
      "execution_count": null,
      "outputs": []
    },
    {
      "cell_type": "markdown",
      "metadata": {},
      "source": [
        "Comme on fait un `return copy(L)`, on a pas besoin de préciser que le `return` récursif ne doit pas être exécuté dans tous les cas. Mais si on ne fait pas de `return`, on peut utiliser le cas `case other:`, qui correspondra à un `else` : il sera atteint seulement si aucun des autres cas ne sont trouvés.\n"
      ],
      "id": "7738a81f"
    },
    {
      "cell_type": "code",
      "metadata": {},
      "source": [
        "for a in range(8):\n",
        "    match a:\n",
        "        case 0:\n",
        "            print(a, \"un nombre nul\")\n",
        "        case 1:\n",
        "            print(a, \"premier nombre, mais pas un nombre premier\")\n",
        "        case 2:\n",
        "            print(a, \"est le premier nombre premier\")\n",
        "        case 3:\n",
        "            print(a, \"est un autre nombre premier\")\n",
        "        case 4:\n",
        "            print(a, \"est le premier nombre pas premier\")\n",
        "        case 5:\n",
        "            print(a, \"est encore un nombre premier\")\n",
        "        case other:\n",
        "            print(a, \"est trop grand pour moi\")\n",
        "    # sera exécuté à chaque fois, quel que soit le match\n",
        "    print(\"--------------------------------------------\")"
      ],
      "id": "dce5f08c",
      "execution_count": null,
      "outputs": []
    },
    {
      "cell_type": "markdown",
      "metadata": {},
      "source": [
        ":::\n",
        "\n",
        "\n",
        "## Interclassement croissant\n",
        "\n",
        "\n",
        " 2. On considère maintenant deux listes de nombres `L1` et `L2` qui sont triées par ordre croissant. Écrire une fonction d’interclassement `interCroissant(L1, L2)` qui insère à chaque itération l’élément le plus petit qui se trouve en tête de liste soit de `L1` soit de `L2`. Un tel interclassement produit une liste fusionnée elle-même triée par ordre croissant. Proposer une solution itérative puis une solution récursive à ce problème.\n",
        "\n",
        "\n",
        "\n",
        "\n",
        "### Itératif\n"
      ],
      "id": "3478f296"
    },
    {
      "cell_type": "code",
      "metadata": {},
      "source": [
        "def inter_croissant_iter(L1: Node, L2: Node) -> Node:\n",
        "    if L1 is None: return copy(L2)\n",
        "    if L2 is None: return copy(L1)\n",
        "    L1_p = L1\n",
        "    L2_p = L2\n",
        "    # init 1ère valeur\n",
        "    res = None\n",
        "    if L1_p.valeur < L2_p.valeur:\n",
        "        res = Node(L1_p.valeur)\n",
        "        L1_p = L1_p.suivant\n",
        "    else:\n",
        "        res = Node(L2_p.valeur)\n",
        "        L2_p = L2_p.suivant\n",
        "    res_tail = res\n",
        "    while L1_p is not None and L2_p is not None:\n",
        "        if L1_p.valeur < L2_p.valeur:\n",
        "            res_tail.suivant = Node(L1_p.valeur)\n",
        "            res_tail = res_tail.suivant\n",
        "            L1_p = L1_p.suivant\n",
        "        else:\n",
        "            res_tail.suivant = Node(L2_p.valeur)\n",
        "            res_tail = res_tail.suivant\n",
        "            L2_p = L2_p.suivant\n",
        "    if L1_p is None:\n",
        "        res_tail.suivant = copy(L2_p)\n",
        "    elif L2_p is None:\n",
        "        res_tail.suivant = copy(L1_p)\n",
        "    return res\n",
        "\n",
        "L1 = Node(1, Node(6, Node(42, Node(73, Node(1237)))))\n",
        "L2 = Node(0, Node(12, Node(37, Node(67, Node(68)))))\n",
        "print(Liste(inter_croissant_iter(L1, L2)))"
      ],
      "id": "af8692d7",
      "execution_count": null,
      "outputs": []
    },
    {
      "cell_type": "markdown",
      "metadata": {},
      "source": [
        "### Récursif\n"
      ],
      "id": "3b1427d6"
    },
    {
      "cell_type": "code",
      "metadata": {},
      "source": [
        "def inter_croissant_rec(L1: Node, L2: Node) -> Node:\n",
        "    match (L1, L2):\n",
        "        case (L, None) | (None, L): return copy(L)\n",
        "        case (L1, L2) if L1.valeur < L2.valeur:\n",
        "            return Node(L1.valeur,\n",
        "                        inter_croissant_rec(L1.suivant, L2))\n",
        "        case other:\n",
        "            return Node(L2.valeur,\n",
        "                        inter_croissant_rec(L1, L2.suivant))\n",
        "\n",
        "L1 = Node(1, Node(6, Node(42, Node(73, Node(1237)))))\n",
        "L2 = Node(0, Node(12, Node(37, Node(67, Node(68)))))\n",
        "print(Liste(inter_croissant_iter(L1, L2)))"
      ],
      "id": "faa64e41",
      "execution_count": null,
      "outputs": []
    },
    {
      "cell_type": "markdown",
      "metadata": {},
      "source": [
        "# Calculatrice\n",
        "\n",
        "Nous nous intéressons à la conception d’une calculatrice qui repose sur une représentation des opérations à l’aide d’une **pile**. De façon à mener à bien ce programme, il va donc falloir\n",
        " - implémenter les fonctions de la barrière d’abstraction de la structure pile de données (push, pop),\n",
        " - comprendre la notation postfixée pour la saisie des opérations\n",
        "\n",
        "\n",
        "De manière traditionnelle, les opérations sont notées de manière infixée avec, dans le cas d’un opérateur binaire, le placement de l’opérateur entre les 2 opérandes. On obtient la notation suivante :\n",
        "De manière traditionnelle, les opérations sont notées de manière infixée avec, dans le cas d’un opérateur binaire, le placement de l’opérateur entre les 2 opérandes. On obtient la notation suivante :\n",
        "$$\\text{opérande}_1 \\text{opérateur} \\text{opérande}_2$$\n",
        "\n",
        "comme par exemple : $3 + 4$, $2.5 / 3.14 \\ldots$\n",
        "\n",
        "En notation postfixée, l’opérateur succède à son (dans le cas d’un opérateur unaire) ou ses (dans le cas d’un opérateur binaire) opérande(s).\n",
        "\n",
        "Ainsi : “$3+4$” s’écrit en postfixe “$3 4 +$”.\n",
        "\n",
        "L’intérêt d’une telle représentation est de pouvoir ensuite utiliser une pile pour réaliser les calculs en suivant le schéma de résolution suivant :\n",
        "\n",
        " - si la pile ne contient qu’une valeur réelle, il s’agit du résultat du calcul,\n",
        " - sinon on empile les valeurs réelles lorsqu’elles sont lues en entrée,\n",
        " - si on lit un caractère correspondant à un opérateur binaire on dépile les deux dernières valeurs réelles, on effectue le calcul et on empile le résultat,\n",
        " - si on lit un caractère correspondant à un opérateur unaire, comme l’opérateur de négation, on dépile la dernière valeur, on applique l’opérateur et on empile le résultat.\n",
        "\n",
        "Attention : la division est une loi non commutative, c’est-à-dire que $x/y \\neq y/x$. Il faut donc garder à l’esprit qu’en écrivant “$x y /$” en postifixé, l’opération souhaitée est $\\frac{x}{y}$ mais que du fait de l’utilisation d’une pile, la valeur de $y$ sera dépilée avant celle de $x$ (pile = dernier arrivé, premier sorti).\n",
        "\n",
        "Dans le cadre de notre programme, les opérateurs suivants doivent être reconnus :\n",
        "\n",
        " - `+` : addition,\n",
        " - `-` : soustraction,\n",
        " - `*` : multiplication,\n",
        " - `/` division\n",
        " - `n` : négation\n",
        "\n",
        "Similairement, on veillera à bien gérer les erreurs :\n",
        "\n",
        "• soit de division par 0,\n",
        "• soit de dépilement de valeur inexistante : par exemple, essayer de dépiler les deux opérandes d’un opérateur `+` alors qu’il n’y en a qu’un seul dans la pile\n",
        "\n",
        "## Notation postfixée\n",
        "\n",
        "Indiquer la traduction en notation postfixée des expressions suivantes exprimées en notation infixée (les parenthèses ne sont là que pour vous aider à comprendre la priorité des opérations) :\n",
        "\n",
        " - `(2 + 4) * n 5`\n",
        "     - `2 4 + 5 n *` ou bien `5 n 2 4 + *`\n",
        " - `9 / (3.5 + 6)`\n",
        "     - `9 3.5 6 + /`\n",
        " - `(3 - 5) / (3 + 5)`\n",
        "     - `3 5 - 3 5 + /`\n",
        "\n",
        "\n",
        "\n",
        "## Caculatrice\n",
        "\n",
        " 2. Implémenter une calculatrice simple en notation postfixée sur la base d’une pile gérée par votre barrière d’abstraction.\n",
        "\n",
        "### Pile\n",
        "\n",
        "::: {.callout-note collapse=true}\n",
        "## Notes sur l'implémentation\n",
        "\n",
        " - Le dessus de la pile (la tête de la pile) sera la tête de liste (le premier élément de la liste), pour minimiser la complexité des opérations de base.\n",
        " - Les opérations sur les piles seront faîtes en-place (\"_in place_\"), c'est-à-dire que les listes seront modifiées (une nouvelle liste ne sera pas créée à chaque fois)\n",
        " - On peut alors avoir un `push` et un `pop` en $O(1)$\n",
        "\n",
        ":::\n",
        "\n",
        "#### Push\n"
      ],
      "id": "1a7ce689"
    },
    {
      "cell_type": "code",
      "metadata": {},
      "source": [
        "def push(L: Node, valeur) -> Node:\n",
        "    return Node(valeur, L)\n",
        "\n",
        "A = Node(1, Node(2))\n",
        "A = push(A, 42)\n",
        "print(Liste(A))"
      ],
      "id": "80c9dfef",
      "execution_count": null,
      "outputs": []
    },
    {
      "cell_type": "markdown",
      "metadata": {},
      "source": [
        "#### Get\n"
      ],
      "id": "f936282d"
    },
    {
      "cell_type": "code",
      "metadata": {},
      "source": [
        "def get(L: Node) -> Node:\n",
        "    if L is None:\n",
        "        return None\n",
        "    return L.valeur\n",
        "\n",
        "print(Liste(A))\n",
        "print(get(A))"
      ],
      "id": "9f745259",
      "execution_count": null,
      "outputs": []
    },
    {
      "cell_type": "markdown",
      "metadata": {},
      "source": [
        "#### Pop\n"
      ],
      "id": "f6d85a73"
    },
    {
      "cell_type": "code",
      "metadata": {},
      "source": [
        "def pop(L: Node) -> Node:\n",
        "    if L is None:\n",
        "        raise ValueError(\"pop from empty stack.\")\n",
        "    return L.suivant\n",
        "\n",
        "print(Liste(A))\n",
        "A = pop(A)\n",
        "print(Liste(A))"
      ],
      "id": "45aea8a9",
      "execution_count": null,
      "outputs": []
    },
    {
      "cell_type": "markdown",
      "metadata": {},
      "source": [
        "#### Is empty\n"
      ],
      "id": "cac5af08"
    },
    {
      "cell_type": "code",
      "metadata": {},
      "source": [
        "def is_empty(L: Node) -> bool:\n",
        "    return L is None\n",
        "\n",
        "print(is_empty(None))\n",
        "print(is_empty(Node(1, Node(2))))"
      ],
      "id": "fe2bac6d",
      "execution_count": null,
      "outputs": []
    },
    {
      "cell_type": "markdown",
      "metadata": {},
      "source": [
        "#### Height\n"
      ],
      "id": "e5922a68"
    },
    {
      "cell_type": "code",
      "metadata": {},
      "source": [
        "def height(L: Node) -> int:\n",
        "    if is_empty(L):\n",
        "        return 0\n",
        "    return 1 + height(L.suivant)\n",
        "\n",
        "L = Node(1, Node(2, Node(3, Node(42))))\n",
        "print(height(L))"
      ],
      "id": "324afcc8",
      "execution_count": null,
      "outputs": []
    },
    {
      "cell_type": "markdown",
      "metadata": {},
      "source": [
        "### Abstraction de la calculatrice\n",
        "\n",
        "\n",
        "On créée d'abord une fonction qui permet d'appliquer un opérateur binaire à une pile (sur les deux premiers éléments).\n"
      ],
      "id": "3c1df25a"
    },
    {
      "cell_type": "code",
      "metadata": {},
      "source": [
        "def appliquer(bin_operator, L: Node) -> Node:\n",
        "    \"\"\"Appliquer `bin_operator` sur les deux premières valeurs de la pile.\n",
        "\n",
        "    Le premier paramètre donné à `bin_operator` est le dessus de la pile, et le\n",
        "    second est le second élément de la pile.\n",
        "    \"\"\"\n",
        "    if L is None:\n",
        "        raise ValueError(\"applying operator on empty stack\")\n",
        "    if L.suivant is None:\n",
        "        raise ValueError(\"applying operator on stack with only one element\")\n",
        "    return Node(bin_operator(L.valeur, L.suivant.valeur), L.suivant.suivant)\n",
        "    first = get(L)\n",
        "    L = pop(L)\n",
        "    second = get(L)\n",
        "    L = pop(L)\n",
        "    result = bin_operator(first, second)\n",
        "    return push(result, L)\n",
        "\n",
        "A = Node(3, Node(2, Node(4, Node(1, Node(5)))))\n",
        "add = lambda x, y: x+y\n",
        "div = lambda x, y: y / x\n",
        "A = appliquer(add, A)\n",
        "print(Liste(A))\n",
        "A = appliquer(div, A)\n",
        "print(Liste(A))"
      ],
      "id": "98d563f3",
      "execution_count": null,
      "outputs": []
    },
    {
      "cell_type": "markdown",
      "metadata": {},
      "source": [
        "#### Opérateurs de base\n"
      ],
      "id": "73447624"
    },
    {
      "cell_type": "code",
      "metadata": {},
      "source": [
        "def add(L: Node) -> Node:\n",
        "    return appliquer(lambda x, y: x+y, L)\n",
        "\n",
        "def sub(L: Node) -> Node:\n",
        "    return appliquer(lambda x, y: y - x, L)\n",
        "\n",
        "def mult(L: Node) -> Node:\n",
        "    return appliquer(lambda x, y: x * y, L)\n",
        "\n",
        "def div(L: Node) -> Node:\n",
        "    return appliquer(lambda x, y: y / x, L)\n",
        "\n",
        "A = Node(3, Node(2, Node(1, Node(1, Node(5)))))\n",
        "print(Liste(A))\n",
        "A = add(A)\n",
        "print(Liste(A))\n",
        "A = sub(A)\n",
        "print(Liste(A))\n",
        "A = div(A)\n",
        "print(Liste(A))\n",
        "A = mult(A)\n",
        "print(Liste(A))"
      ],
      "id": "fbd8fea6",
      "execution_count": null,
      "outputs": []
    },
    {
      "cell_type": "markdown",
      "metadata": {},
      "source": [
        "#### Opérations unaires\n",
        "\n",
        "Les opérations unaires sont des opérations qui modifient uniquement le premier élément de la pile.\n"
      ],
      "id": "166d865f"
    },
    {
      "cell_type": "code",
      "metadata": {},
      "source": [
        "def appliquer_unaire(operation, L: Node) -> Node:\n",
        "    if L is None:\n",
        "        raise ValueError(\"cannot apply unary function to an empty stack\")\n",
        "    val = get(L)\n",
        "    L = pop(L)\n",
        "    return push(operation(val), L)"
      ],
      "id": "7764525f",
      "execution_count": null,
      "outputs": []
    },
    {
      "cell_type": "markdown",
      "metadata": {},
      "source": [
        "Voici quelques opérations unaires utiles :\n"
      ],
      "id": "ba2bb99f"
    },
    {
      "cell_type": "code",
      "metadata": {},
      "source": [
        "def neg(L: Node) -> Node:\n",
        "    \"\"\"Négation : transformer la première valeur de la pile en son opposé.\n",
        "    \"\"\"\n",
        "    return appliquer_unaire(lambda x: -x, L)\n",
        "\n",
        "def inv(L: Node) -> Node:\n",
        "    \"\"\"Inversion : inverser le premier élément de la pile (l'inverse de x est 1/x).\n",
        "    \"\"\"\n",
        "    return appliquer_unaire(lambda x: 1/x, L)\n",
        "\n",
        "print(Liste(A))\n",
        "A = neg(A)\n",
        "print(Liste(A))\n",
        "A = inv(A)\n",
        "print(Liste(A))"
      ],
      "id": "6b1e799c",
      "execution_count": null,
      "outputs": []
    },
    {
      "cell_type": "markdown",
      "metadata": {},
      "source": [
        "#### Affichage d'une pile\n",
        "\n",
        "On veut afficher la pile avec la tête en base, pour que les nombres les plus récents soient plus près de l'entrée utilisateur.\n"
      ],
      "id": "bca4747c"
    },
    {
      "cell_type": "code",
      "metadata": {},
      "source": [
        "def stack_to_list(L: Node) -> list:\n",
        "    if L is None: return []\n",
        "    return [L.valeur] + stack_to_list(L.suivant)\n",
        "\n",
        "def show_stack(L: Node) -> None:\n",
        "    # pour afficher la liste la tête en bas, on retourne la liste\n",
        "    print(*reversed(stack_to_list(L)), sep='\\n')\n",
        "\n",
        "L = Node(1, Node(2, Node(3, Node(4, Node(5)))))\n",
        "show_stack(L)"
      ],
      "id": "ad8a29a4",
      "execution_count": null,
      "outputs": []
    },
    {
      "cell_type": "markdown",
      "metadata": {},
      "source": [
        "#### Traduction des commandes\n",
        "\n",
        "On veut créer une fonction qui transforme une liste selon une chaîne de caractères donnée, qui représente l'opération voulue.\n",
        "\n",
        "On pourrait utiliser des structures `if ... elif ... elif ... else`, ainsi que des clauses `or` pour tester les différentes commandes, mais la structure `match` (apparue dans la version 3.10 de python) permet une syntaxe plus claire, et des expressions plus riches.\n"
      ],
      "id": "e7b54a1e"
    },
    {
      "cell_type": "code",
      "metadata": {},
      "source": [
        "from math import *\n",
        "FUNCS = (\"exp\" | \"log\" | \"sqrt\" | \"ceil\" | \"floor\" | \"cos\" | \"sin\" | \"tan\" | \"cosh\" | \"sinh\" | \"tanh\" | \"acos\" | \"asin\" | \"atan\")\n",
        "def appliquer_str(op_str: str, L: Node) -> Node:\n",
        "    \"\"\"Appliquer l'opération désignée par `op_str` sur `L`.\n",
        "    Exemples :\n",
        "    >>> appliquer_str(\"+\", Node(1, Node(2))) # donne Node(3)\n",
        "    >>> appliquer_str(\"/\", Node(5, Node(2))) # donne Node(0.4)\n",
        "    \"\"\"\n",
        "    match op_str:\n",
        "        case \"+\" | \"add\":\n",
        "            return add(L)\n",
        "        case \"-\" | \"sub\" | \"subs\":\n",
        "            return sub(L)\n",
        "        case \"*\" | \"mul\" | \"mult\" | \"times\":\n",
        "            return mult(L)\n",
        "        case \"/\" | \"÷\" | \"div\" | \"divide\":\n",
        "            return div(L)\n",
        "        case \"-\" | \"neg\" | \"negate\" | \"oppose\" | \"opposite\":\n",
        "            return neg(L)\n",
        "        case \"inv\" | \"invs\" | \"inverse\":\n",
        "            return inv(L)\n",
        "        case \"pop\" | \"del\":\n",
        "            return pop(L)\n",
        "        case (\"pi\" | \"e\") as constant:\n",
        "            # eval transforme la chaîne de caractère en la valeur de la variable\n",
        "            # en fait, eval évalue un code python\n",
        "            return push(eval(constant), L)\n",
        "        case FUNCS as fonction:\n",
        "            # ici, eval transforme la chaîne de caractère en fonction\n",
        "            return appliquer_unaire(eval(fonction), L)\n",
        "        case \"ln\":\n",
        "            return appliquer_unaire(log, L)\n",
        "        # aucune opération n'est donnée : on ne fait rien\n",
        "        case \"\":\n",
        "            return L\n",
        "        # tout autre valeur n'est pas une opération connue\n",
        "        case _:\n",
        "            print(\"opération inconnue !\")\n",
        "            # on ne modifie pas L\n",
        "            return L"
      ],
      "id": "03540dba",
      "execution_count": null,
      "outputs": []
    }
  ],
  "metadata": {
    "kernelspec": {
      "name": "python3",
      "language": "python",
      "display_name": "Python 3 (ipykernel)"
    }
  },
  "nbformat": 4,
  "nbformat_minor": 5
}